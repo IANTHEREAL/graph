{
 "cells": [
  {
   "cell_type": "code",
   "execution_count": 1,
   "metadata": {},
   "outputs": [],
   "source": [
    "from llm.factory import LLMInterface\n",
    "\n",
    "llm_client = LLMInterface(\"bedrock\", \"arn:aws:bedrock:us-east-1:841162690310:inference-profile/us.anthropic.claude-3-7-sonnet-20250219-v1:0\")"
   ]
  },
  {
   "cell_type": "code",
   "execution_count": 2,
   "metadata": {},
   "outputs": [],
   "source": [
    "from graph.docbuilder import DocBuilder\n",
    "\n",
    "doc_builder = DocBuilder(llm_client)\n",
    "\n",
    "sections = doc_builder.split_markdown_by_heading(\"docs/programming-guides/proto3.md\", {\n",
    "    \"doc_version\": \"1.0\",\n",
    "    \"category\": \"Programming Guides\",\n",
    "})"
   ]
  },
  {
   "cell_type": "code",
   "execution_count": 5,
   "metadata": {},
   "outputs": [
    {
     "data": {
      "text/plain": [
       "[KnowledgeBlock(id='6d157f1c-2493-41cb-b6c0-b9044684b469', name='Supported Platforms {#platforms}', definition='\\nFor information about:\\n\\n*   the operating systems, compilers, build systems, and C++ versions that are\\n    supported, see\\n    [Foundational C++ Support Policy](https://opensource.google/documentation/policies/cplusplus-support).\\n*   the PHP versions that are supported, see\\n    [Supported PHP versions](https://cloud.google.com/php/getting-started/supported-php-versions).', source_version='1.0', source_ids=['36179f64-00fe-4c3b-8215-562f2af32cd2'])]"
      ]
     },
     "execution_count": 5,
     "metadata": {},
     "output_type": "execute_result"
    }
   ],
   "source": [
    "doc_builder.knowledge_blocks"
   ]
  }
 ],
 "metadata": {
  "kernelspec": {
   "display_name": "graph",
   "language": "python",
   "name": "python3"
  },
  "language_info": {
   "codemirror_mode": {
    "name": "ipython",
    "version": 3
   },
   "file_extension": ".py",
   "mimetype": "text/x-python",
   "name": "python",
   "nbconvert_exporter": "python",
   "pygments_lexer": "ipython3",
   "version": "3.11.11"
  }
 },
 "nbformat": 4,
 "nbformat_minor": 2
}
