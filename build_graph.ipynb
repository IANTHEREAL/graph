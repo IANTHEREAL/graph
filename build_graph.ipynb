{
 "cells": [
  {
   "cell_type": "code",
   "execution_count": 1,
   "metadata": {},
   "outputs": [],
   "source": [
    "from llm.factory import LLMInterface\n",
    "from setting.db import SessionLocal\n",
    "from llm.embedding import get_text_embedding\n",
    "\n",
    "# llm_client = LLMInterface(\"bedrock\", \"us.deepseek.r1-v1:0\")\n",
    "llm_client = LLMInterface(\"bedrock\", \"arn:aws:bedrock:us-east-1:841162690310:inference-profile/us.anthropic.claude-3-7-sonnet-20250219-v1:0\")"
   ]
  },
  {
   "cell_type": "code",
   "execution_count": null,
   "metadata": {},
   "outputs": [],
   "source": [
    "from graph.docbuilder import DocBuilder\n",
    "\n",
    "doc_builder = DocBuilder(llm_client, get_text_embedding)\n",
    "\n",
    "sections = doc_builder.split_markdown_by_heading(\n",
    "    \"docs/business_operations/FY26 SKA and KA Segmentation.md\", {\n",
    "    \"doc_version\": \"fy26_v1.0\",\n",
    "    \"doc_link\": \"https://pingcap.feishu.cn/wiki/VbQ4wSE6ri3OL3kYuC0cs7OOnBb\"\n",
    "    \"category\": \"business_operation/global\",\n",
    "})"
   ]
  },
  {
   "cell_type": "code",
   "execution_count": null,
   "metadata": {},
   "outputs": [],
   "source": [
    "doc_builder.analyze_concepts()"
   ]
  },
  {
   "cell_type": "code",
   "execution_count": 22,
   "metadata": {},
   "outputs": [],
   "source": [
    "from graph.models import KnowledgeBlock\n",
    "from setting.db import SessionLocal\n",
    "from llm.embedding import get_text_embedding\n",
    "from sqlalchemy.orm import aliased, defer, joinedload\n",
    "from sqlalchemy import or_, desc\n",
    "\n",
    "query_vector = get_text_embedding(\"How to update protobufmessage definition\")\n",
    "\n",
    "with SessionLocal() as db:\n",
    "    blocks = db.query(\n",
    "        KnowledgeBlock.name,\n",
    "        KnowledgeBlock.content,\n",
    "        KnowledgeBlock.content_vec.cosine_distance(\n",
    "            query_vector\n",
    "        ).label(\"embedding_distance\"),\n",
    "    ).order_by(asc(\"embedding_distance\")).limit(3).all()"
   ]
  },
  {
   "cell_type": "code",
   "execution_count": null,
   "metadata": {},
   "outputs": [],
   "source": [
    "for block in blocks:\n",
    "    print(block)"
   ]
  }
 ],
 "metadata": {
  "kernelspec": {
   "display_name": "graphrag",
   "language": "python",
   "name": "python3"
  },
  "language_info": {
   "codemirror_mode": {
    "name": "ipython",
    "version": 3
   },
   "file_extension": ".py",
   "mimetype": "text/x-python",
   "name": "python",
   "nbconvert_exporter": "python",
   "pygments_lexer": "ipython3",
   "version": "3.12.6"
  }
 },
 "nbformat": 4,
 "nbformat_minor": 2
}
