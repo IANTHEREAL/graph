{
 "cells": [
  {
   "cell_type": "code",
   "execution_count": 2,
   "metadata": {},
   "outputs": [
    {
     "name": "stdout",
     "output_type": "stream",
     "text": [
      "- AI Bot Knowledge Base Tree Copy\n",
      "  - Compensation\n",
      "    - What is Compensation Metrics?\n",
      "    - What is Compensation Plan?\n",
      "    - What is SPIFF?\n",
      "    - How to calculate compensation?\n",
      "  - Key Business Metrics\n",
      "    - ACV\n",
      "      - What is ACV?\n",
      "      - How to calculate ACV?\n",
      "    - ARR\n",
      "      - What is ARR?\n",
      "      - How to calculate ACV?\n",
      "  - SFDC\n",
      "    - Lead\n",
      "      - What is Lead in SFDC?\n",
      "      - How to Lead Assignment?\n",
      "    - Account\n",
      "      - What is the definition of Customer Segmentation (SKA/KA)?\n",
      "      - What is the definition of Customer ICP/Idustry?\n",
      "      - How to Account Creation?\n",
      "    - Opportunity\n",
      "      - What fields are the Opportunity contain?\n",
      "      - How to create Opportunity?\n",
      "    - Others\n",
      "      - How to handle Usage Issue?\n",
      "  - Ops Portal\n",
      "    - Credits\n",
      "      - What is credits?\n",
      "      - How to apply credist?\n",
      "        - External Use\n",
      "        - Internal Use\n"
     ]
    }
   ],
   "source": [
    "from index_craft.loader import parse_freemind\n",
    "from index_craft.index import print_index\n",
    "\n",
    "\n",
    "file_path = \"bo_kb_tree.mm\"\n",
    "mind_map = parse_freemind(file_path)\n",
    "print_index(mind_map)"
   ]
  }
 ],
 "metadata": {
  "kernelspec": {
   "display_name": "graph_toolkit",
   "language": "python",
   "name": "python3"
  },
  "language_info": {
   "codemirror_mode": {
    "name": "ipython",
    "version": 3
   },
   "file_extension": ".py",
   "mimetype": "text/x-python",
   "name": "python",
   "nbconvert_exporter": "python",
   "pygments_lexer": "ipython3",
   "version": "3.11.11"
  }
 },
 "nbformat": 4,
 "nbformat_minor": 2
}
