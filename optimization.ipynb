{
 "cells": [
  {
   "cell_type": "code",
   "execution_count": 3,
   "metadata": {},
   "outputs": [
    {
     "name": "stdout",
     "output_type": "stream",
     "text": [
      "Found new issues 0, total issues 121\n",
      "============================================================\n",
      "Identified 119 valid issues\n",
      "issue is resolved {('redundancy_entity', (33346, 363328, 1380022, 1380024, 1410020, 1500022)): True, ('redundancy_entity', (35666, 660260, 1500021)): True, ('redundancy_entity', (50205, 361880, 1380027, 1440021, 1500020)): True, ('redundancy_entity', (30178, 1500023)): True, ('redundancy_entity', (67446, 361880, 1410021)): True, ('redundancy_entity', (41603, 59518, 900158)): True, ('redundancy_entity', (34673, 50555, 53518, 53534)): True, ('redundancy_entity', (58191, 900373)): True, ('entity_quality_issue', (241263,)): True, ('entity_quality_issue', (43094,)): True, ('entity_quality_issue', (41041,)): True, ('entity_quality_issue', (50555,)): True, ('entity_quality_issue', (57765,)): True, ('redundancy_entity', (32646, 34144, 39735, 51787, 67835, 243832, 720293)): True, ('redundancy_entity', (36675, 240202)): True, ('redundancy_entity', (34877, 59951)): True, ('redundancy_relationship', (34335, 40987, 43623, 43642, 240744, 241035, 241119, 243301)): True, ('redundancy_relationship', (40133, 41973, 46629, 58140)): True, ('redundancy_relationship', (40132, 52155, 58138)): True, ('redundancy_relationship', (46872, 46940)): True, ('redundancy_relationship', (46738, 46978)): True, ('entity_quality_issue', (63482,)): True, ('entity_quality_issue', (120067,)): True, ('entity_quality_issue', (66453,)): True, ('entity_quality_issue', (54794,)): True, ('relationship_quality_issue', (240191,)): True, ('relationship_quality_issue', (42388,)): True, ('redundancy_entity', (244668, 245812)): True, ('redundancy_entity', (49913, 90315)): True, ('redundancy_entity', (56512, 1320133)): True, ('redundancy_entity', (36435, 241501)): True, ('redundancy_entity', (33579, 300064)): True, ('redundancy_entity', (52903, 91609)): True, ('redundancy_relationship', (31589, 244443)): True, ('redundancy_relationship', (31588, 244443)): True, ('redundancy_relationship', (34355, 60337)): True, ('redundancy_entity', (45708, 900027)): True, ('redundancy_entity', (42421, 54167)): True, ('redundancy_entity', (47615, 48766)): True, ('redundancy_entity', (45843, 390133)): True, ('redundancy_entity', (48730, 68679)): True, ('relationship_quality_issue', (45058,)): True, ('relationship_quality_issue', (45057,)): True, ('redundancy_entity', (361666, 362145)): True, ('redundancy_entity', (92788, 180008)): True, ('redundancy_entity', (39026, 51787, 67835, 1530020)): True, ('redundancy_relationship', (33086, 38658, 48117, 48131, 48226, 60626, 90732, 90798, 90875)): True, ('entity_quality_issue', (3111,)): True, ('entity_quality_issue', (60608,)): True, ('entity_quality_issue', (94518,)): True, ('entity_quality_issue', (270516,)): True, ('redundancy_relationship', (30262, 37974, 41306, 43195, 52193, 91823)): True, ('redundancy_relationship', (41308, 65706, 241942, 243689)): True, ('entity_quality_issue', (68485,)): True, ('entity_quality_issue', (35065,)): True, ('redundancy_entity', (363257, 630020)): True, ('redundancy_entity', (242393, 660028)): True, ('redundancy_entity', (64109, 67229)): True, ('redundancy_relationship', (61932, 63408, 63500, 245526)): True, ('redundancy_relationship', (61897, 64418)): True, ('entity_quality_issue', (59951,)): True, ('entity_quality_issue', (59820,)): True, ('entity_quality_issue', (60526,)): True, ('redundancy_entity', (36948, 45039)): True, ('redundancy_relationship', (47556, 61393, 90470)): True, ('entity_quality_issue', (67293,)): True, ('redundancy_entity', (38888, 1530020, 1560022)): True, ('redundancy_entity', (31788, 61741)): True, ('redundancy_relationship', (41316, 41729)): True, ('redundancy_relationship', (31540, 56944)): True, ('redundancy_relationship', (31554, 35729, 60885)): True, ('redundancy_relationship', (31532, 59433)): True, ('redundancy_entity', (33377, 50309, 56263, 57351, 57554)): True, ('redundancy_entity', (40678, 44043, 47886, 362748, 390118)): True, ('redundancy_entity', (362569, 1320048)): True, ('redundancy_entity', (46122, 57354, 243421, 362836)): True, ('redundancy_entity', (243947, 1320049)): True, ('redundancy_relationship', (47694, 50563, 92893)): True, ('redundancy_relationship', (31527, 47697, 59022, 570315)): True, ('entity_quality_issue', (363194,)): True, ('entity_quality_issue', (243421,)): True, ('entity_quality_issue', (31814,)): True, ('redundancy_entity', (47615, 48746, 68712, 1530030)): True, ('redundancy_entity', (48708, 270077)): True, ('redundancy_entity', (30234, 362937)): True, ('redundancy_entity', (39224, 39254)): True, ('redundancy_relationship', (45117, 66644)): True, ('entity_quality_issue', (64940,)): True, ('entity_quality_issue', (94304,)): True, ('entity_quality_issue', (94305,)): True, ('relationship_quality_issue', (67638,)): True, ('redundancy_entity', (810021, 1320025)): True, ('redundancy_entity', (362435, 362997)): True, ('redundancy_relationship', (1464, 31274, 32617, 32630, 32741, 33190, 34024, 34405, 34428, 37954, 38384, 38971, 39510, 39586, 40149, 41106, 41325, 41438, 41778, 42685, 43558, 43592, 43760, 46507, 46543, 46785, 47042, 47649, 47820, 52067, 55536, 55594, 56083, 56804, 57345, 57433, 57491, 58154, 60323, 60556, 61918, 67655, 93303, 93356, 93397, 93427, 95826, 95834, 240430, 241873, 243381, 244615, 244848, 270077, 270253)): True, ('entity_quality_issue', (244140,)): True, ('entity_quality_issue', (44270,)): True, ('redundancy_entity', (64086, 240296)): True, ('redundancy_entity', (31658, 242879)): True, ('redundancy_entity', (30787, 59111)): True, ('redundancy_entity', (361666, 1560021)): True, ('redundancy_relationship', (46684, 46685, 47015)): True, ('redundancy_relationship', (39684, 39745)): True, ('redundancy_relationship', (58818, 58839)): True, ('redundancy_entity', (50373, 244460)): True, ('redundancy_entity', (3052, 54958)): True, ('redundancy_entity', (32121, 1320118)): True, ('redundancy_relationship', (95912, 95937)): True, ('redundancy_relationship', (62488, 63021)): True, ('redundancy_relationship', (64808, 150482)): True, ('redundancy_relationship', (64805, 150487)): True, ('entity_quality_issue', (59211,)): True, ('entity_quality_issue', (243294,)): True, ('redundancy_entity', (244668, 245812, 1530021)): True, ('redundancy_entity', (49913, 90315, 1530022)): True, ('redundancy_entity', (300064, 1530026)): True, ('redundancy_relationship', (31589, 244444)): True, ('entity_quality_issue', (45538,)): True, ('entity_quality_issue', (45394,)): True} 118\n",
      "pendding entity quality issues number 0\n",
      "pendding redundancy entity number 0\n",
      "pendding relationship quality issues number 0\n",
      "pendding redundancy relationships number 0\n",
      "Found new issues 0, total issues 121\n",
      "============================================================\n",
      "Identified 119 valid issues\n",
      "issue is resolved {('redundancy_entity', (33346, 363328, 1380022, 1380024, 1410020, 1500022)): True, ('redundancy_entity', (35666, 660260, 1500021)): True, ('redundancy_entity', (50205, 361880, 1380027, 1440021, 1500020)): True, ('redundancy_entity', (30178, 1500023)): True, ('redundancy_entity', (67446, 361880, 1410021)): True, ('redundancy_entity', (41603, 59518, 900158)): True, ('redundancy_entity', (34673, 50555, 53518, 53534)): True, ('redundancy_entity', (58191, 900373)): True, ('entity_quality_issue', (241263,)): True, ('entity_quality_issue', (43094,)): True, ('entity_quality_issue', (41041,)): True, ('entity_quality_issue', (50555,)): True, ('entity_quality_issue', (57765,)): True, ('redundancy_entity', (32646, 34144, 39735, 51787, 67835, 243832, 720293)): True, ('redundancy_entity', (36675, 240202)): True, ('redundancy_entity', (34877, 59951)): True, ('redundancy_relationship', (34335, 40987, 43623, 43642, 240744, 241035, 241119, 243301)): True, ('redundancy_relationship', (40133, 41973, 46629, 58140)): True, ('redundancy_relationship', (40132, 52155, 58138)): True, ('redundancy_relationship', (46872, 46940)): True, ('redundancy_relationship', (46738, 46978)): True, ('entity_quality_issue', (63482,)): True, ('entity_quality_issue', (120067,)): True, ('entity_quality_issue', (66453,)): True, ('entity_quality_issue', (54794,)): True, ('relationship_quality_issue', (240191,)): True, ('relationship_quality_issue', (42388,)): True, ('redundancy_entity', (244668, 245812)): True, ('redundancy_entity', (49913, 90315)): True, ('redundancy_entity', (56512, 1320133)): True, ('redundancy_entity', (36435, 241501)): True, ('redundancy_entity', (33579, 300064)): True, ('redundancy_entity', (52903, 91609)): True, ('redundancy_relationship', (31589, 244443)): True, ('redundancy_relationship', (31588, 244443)): True, ('redundancy_relationship', (34355, 60337)): True, ('redundancy_entity', (45708, 900027)): True, ('redundancy_entity', (42421, 54167)): True, ('redundancy_entity', (47615, 48766)): True, ('redundancy_entity', (45843, 390133)): True, ('redundancy_entity', (48730, 68679)): True, ('relationship_quality_issue', (45058,)): True, ('relationship_quality_issue', (45057,)): True, ('redundancy_entity', (361666, 362145)): True, ('redundancy_entity', (92788, 180008)): True, ('redundancy_entity', (39026, 51787, 67835, 1530020)): True, ('redundancy_relationship', (33086, 38658, 48117, 48131, 48226, 60626, 90732, 90798, 90875)): True, ('entity_quality_issue', (3111,)): True, ('entity_quality_issue', (60608,)): True, ('entity_quality_issue', (94518,)): True, ('entity_quality_issue', (270516,)): True, ('redundancy_relationship', (30262, 37974, 41306, 43195, 52193, 91823)): True, ('redundancy_relationship', (41308, 65706, 241942, 243689)): True, ('entity_quality_issue', (68485,)): True, ('entity_quality_issue', (35065,)): True, ('redundancy_entity', (363257, 630020)): True, ('redundancy_entity', (242393, 660028)): True, ('redundancy_entity', (64109, 67229)): True, ('redundancy_relationship', (61932, 63408, 63500, 245526)): True, ('redundancy_relationship', (61897, 64418)): True, ('entity_quality_issue', (59951,)): True, ('entity_quality_issue', (59820,)): True, ('entity_quality_issue', (60526,)): True, ('redundancy_entity', (36948, 45039)): True, ('redundancy_relationship', (47556, 61393, 90470)): True, ('entity_quality_issue', (67293,)): True, ('redundancy_entity', (38888, 1530020, 1560022)): True, ('redundancy_entity', (31788, 61741)): True, ('redundancy_relationship', (41316, 41729)): True, ('redundancy_relationship', (31540, 56944)): True, ('redundancy_relationship', (31554, 35729, 60885)): True, ('redundancy_relationship', (31532, 59433)): True, ('redundancy_entity', (33377, 50309, 56263, 57351, 57554)): True, ('redundancy_entity', (40678, 44043, 47886, 362748, 390118)): True, ('redundancy_entity', (362569, 1320048)): True, ('redundancy_entity', (46122, 57354, 243421, 362836)): True, ('redundancy_entity', (243947, 1320049)): True, ('redundancy_relationship', (47694, 50563, 92893)): True, ('redundancy_relationship', (31527, 47697, 59022, 570315)): True, ('entity_quality_issue', (363194,)): True, ('entity_quality_issue', (243421,)): True, ('entity_quality_issue', (31814,)): True, ('redundancy_entity', (47615, 48746, 68712, 1530030)): True, ('redundancy_entity', (48708, 270077)): True, ('redundancy_entity', (30234, 362937)): True, ('redundancy_entity', (39224, 39254)): True, ('redundancy_relationship', (45117, 66644)): True, ('entity_quality_issue', (64940,)): True, ('entity_quality_issue', (94304,)): True, ('entity_quality_issue', (94305,)): True, ('relationship_quality_issue', (67638,)): True, ('redundancy_entity', (810021, 1320025)): True, ('redundancy_entity', (362435, 362997)): True, ('redundancy_relationship', (1464, 31274, 32617, 32630, 32741, 33190, 34024, 34405, 34428, 37954, 38384, 38971, 39510, 39586, 40149, 41106, 41325, 41438, 41778, 42685, 43558, 43592, 43760, 46507, 46543, 46785, 47042, 47649, 47820, 52067, 55536, 55594, 56083, 56804, 57345, 57433, 57491, 58154, 60323, 60556, 61918, 67655, 93303, 93356, 93397, 93427, 95826, 95834, 240430, 241873, 243381, 244615, 244848, 270077, 270253)): True, ('entity_quality_issue', (244140,)): True, ('entity_quality_issue', (44270,)): True, ('redundancy_entity', (64086, 240296)): True, ('redundancy_entity', (31658, 242879)): True, ('redundancy_entity', (30787, 59111)): True, ('redundancy_entity', (361666, 1560021)): True, ('redundancy_relationship', (46684, 46685, 47015)): True, ('redundancy_relationship', (39684, 39745)): True, ('redundancy_relationship', (58818, 58839)): True, ('redundancy_entity', (50373, 244460)): True, ('redundancy_entity', (3052, 54958)): True, ('redundancy_entity', (32121, 1320118)): True, ('redundancy_relationship', (95912, 95937)): True, ('redundancy_relationship', (62488, 63021)): True, ('redundancy_relationship', (64808, 150482)): True, ('redundancy_relationship', (64805, 150487)): True, ('entity_quality_issue', (59211,)): True, ('entity_quality_issue', (243294,)): True, ('redundancy_entity', (244668, 245812, 1530021)): True, ('redundancy_entity', (49913, 90315, 1530022)): True, ('redundancy_entity', (300064, 1530026)): True, ('redundancy_relationship', (31589, 244444)): True, ('entity_quality_issue', (45538,)): True, ('entity_quality_issue', (45394,)): True} 118\n",
      "pendding entity quality issues number 0\n",
      "pendding redundancy entity number 0\n",
      "pendding relationship quality issues number 0\n",
      "pendding redundancy relationships number 0\n"
     ]
    }
   ],
   "source": [
    "import requests\n",
    "from datetime import datetime, timedelta\n",
    "from typing import List\n",
    "import json\n",
    "\n",
    "from optimization import improve_graph\n",
    "\n",
    "def get_task_goals(\n",
    "    base_url: str = \"https://stackvm.tidb.ai/\",\n",
    "   last_hours: int = 2\n",
    ") -> List[str]:\n",
    "    try:\n",
    "        end_time = datetime.utcnow()\n",
    "        start_time = end_time - timedelta(hours=last_hours)\n",
    "        \n",
    "        url = f\"{base_url}/api/tasks/evaluation\"\n",
    "        params = {\n",
    "            \"start_time\": start_time.isoformat(),\n",
    "            \"end_time\": end_time.isoformat()\n",
    "        }\n",
    "        response = requests.get(url, params=params)\n",
    "        response.raise_for_status()\n",
    "        \n",
    "        tasks = response.json()\n",
    "        \n",
    "        goals = [task.get(\"goal\", \"\") for task in tasks if task.get(\"goal\")]\n",
    "        \n",
    "        return goals\n",
    "        \n",
    "    except requests.exceptions.RequestException as e:\n",
    "        print(f\"Error fetching task goals: {e}\")\n",
    "        return []\n",
    "    except json.JSONDecodeError as e:\n",
    "        print(f\"Error parsing JSON: {e}\")\n",
    "        return []\n",
    "    except Exception as e:\n",
    "        print(f\"Unknown error: {e}\")\n",
    "        return []\n",
    "\n",
    "goals = get_task_goals()\n",
    "for goal in goals:\n",
    "    improve_graph(goal)"
   ]
  }
 ],
 "metadata": {
  "kernelspec": {
   "display_name": "graph",
   "language": "python",
   "name": "python3"
  },
  "language_info": {
   "codemirror_mode": {
    "name": "ipython",
    "version": 3
   },
   "file_extension": ".py",
   "mimetype": "text/x-python",
   "name": "python",
   "nbconvert_exporter": "python",
   "pygments_lexer": "ipython3",
   "version": "3.11.11"
  }
 },
 "nbformat": 4,
 "nbformat_minor": 2
}
