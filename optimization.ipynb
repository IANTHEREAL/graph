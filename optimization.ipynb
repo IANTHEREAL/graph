{
 "cells": [
  {
   "cell_type": "code",
   "execution_count": null,
   "metadata": {},
   "outputs": [
    {
     "name": "stderr",
     "output_type": "stream",
     "text": [
      "2025-05-23 20:03:15 - graph_search.concrete_search - INFO - Starting search with query: how to handle read hotspot?\n"
     ]
    },
    {
     "name": "stdout",
     "output_type": "stream",
     "text": [
      "no unresolved issue, we need to retrieve new issues\n"
     ]
    },
    {
     "name": "stderr",
     "output_type": "stream",
     "text": [
      "2025-05-23 20:03:24 - graph_search.client - INFO - retrieve_knowledge with argument: database read hotspot mitigation techniques\n",
      "2025-05-23 20:03:24 - graph_search.client - INFO - retrieve_knowledge with argument: how to reduce read contention in distributed systems\n",
      "2025-05-23 20:03:24 - graph_search.client - INFO - retrieve_knowledge with argument: caching strategies to handle read hotspots\n",
      "2025-05-23 20:03:24 - graph_search.client - INFO - retrieve_knowledge with argument: performance optimization for high-read traffic systems\n",
      "2025-05-23 20:03:29 - graph_search.concrete_search - INFO - Initial retrieval completed in 4.83 seconds.\n",
      "2025-05-23 20:07:15 - httpx - INFO - HTTP Request: POST http://192.168.206.252:1234/v1/chat/completions \"HTTP/1.1 200 OK\"\n",
      "2025-05-23 20:07:15 - root - INFO - AFC is enabled with max remote calls: 10.\n"
     ]
    },
    {
     "name": "stdout",
     "output_type": "stream",
     "text": [
      "analysis: {'entity_redundancy_issues': [{'issue_type': 'redundancy_entity', 'affected_ids': [1320162, 1380024, 1380020, 1500021, 1380022, 363328], 'reasoning': \"Multiple entities with the name 'Read Hotspot' (IDs: 1320162, 1380024, 1380020, 1500021, 1380022, 363328) all describe the same concept of concentrated read operations causing performance degradation, making them redundant duplicates.\", 'confidence': 'high', 'facto_search': ''}, {'issue_type': 'redundancy_entity', 'affected_ids': [363170, 1380027, 1440020], 'reasoning': \"Multiple entities with the name 'Hotspots' (IDs: 363170, 1380027, 1440020) all describe the same general concept of concentrated read/write activity causing performance issues, making them redundant duplicates.\", 'confidence': 'high', 'facto_search': ''}, {'issue_type': 'redundancy_entity', 'affected_ids': [1380025, 1380020, 1470020, 40527], 'reasoning': \"Multiple entities with the name 'Hotspot Small Table Caching' (IDs: 1380025, 1380020, 1470020, 40527) all describe the same TiDB feature for caching frequently accessed small tables, making them redundant duplicates.\", 'confidence': 'high', 'facto_search': ''}, {'issue_type': 'redundancy_entity', 'affected_ids': [1500021, 1380026, 660260], 'reasoning': \"Multiple entities with the name 'Hotspot Issues' (IDs: 1500021, 1380026, 660260) all describe the same concept of performance bottlenecks caused by uneven data access patterns, making them redundant duplicates.\", 'confidence': 'high', 'facto_search': ''}, {'issue_type': 'redundancy_entity', 'affected_ids': [45660, 900276], 'reasoning': \"Two entities named 'Read Traffic' (IDs: 45660, 900276) both describe the volume of read requests to a storage engine, making them redundant duplicates.\", 'confidence': 'high', 'facto_search': ''}, {'issue_type': 'redundancy_entity', 'affected_ids': [3275, 35740], 'reasoning': \"Two entities named 'write traffic' (ID: 3275) and 'Write Traffic' (ID: 35740) both describe the volume of data being written to a storage system, making them redundant duplicates.\", 'confidence': 'high', 'facto_search': ''}, {'issue_type': 'redundancy_entity', 'affected_ids': [51465, 90805], 'reasoning': \"Two entities named 'Overloaded Databases' (IDs: 51465, 90805) both describe databases experiencing excessive traffic leading to performance degradation, making them redundant duplicates.\", 'confidence': 'high', 'facto_search': ''}], 'relationship_redundancy_issues': [{'issue_type': 'redundancy_relationship', 'affected_ids': [91142, 48846], 'reasoning': \"Relationships 91142 and 48846 both connect 'High Traffic' to 'Overloaded Databases' with the same semantic meaning of high traffic leading to overloaded databases, making them redundant duplicates.\", 'confidence': 'high', 'facto_search': ''}, {'issue_type': 'redundancy_relationship', 'affected_ids': [49647, 91765], 'reasoning': \"Relationships 49647 and 91765 both connect 'TiDB Performance Tuning Best Practices for Java Applications' to 'Highly Concurrent Write Best Practices' with the same semantic meaning, making them redundant duplicates.\", 'confidence': 'high', 'facto_search': ''}, {'issue_type': 'redundancy_relationship', 'affected_ids': [47620, 49651], 'reasoning': \"Relationships 47620 and 49651 both connect 'Highly Concurrent Write Best Practices' to 'TiDB' with the same semantic meaning of best practices being for TiDB, making them redundant duplicates.\", 'confidence': 'high', 'facto_search': ''}], 'entity_quality_issues': [{'issue_type': 'entity_quality_issue', 'affected_ids': [50365], 'reasoning': \"Entity 'hot-region-scheduler' (ID: 50365) has a description that is too vague ('Scheduler that redistributes hot regions to balance read/write traffic') and fails to provide enough context about what the entity actually is or how it works, making it ambiguous.\", 'confidence': 'high', 'facto_search': ''}, {'issue_type': 'entity_quality_issue', 'affected_ids': [41603], 'reasoning': \"Entity 'hot-spot-scheduler' (ID: 41603) has a description that is too vague ('A scheduling strategy in PD to handle hot spots') and fails to provide enough context about what the entity actually is or how it works, making it ambiguous.\", 'confidence': 'high', 'facto_search': ''}], 'relationship_quality_issues': [], 'missing_relationship_issues': []}\n",
      "Found new issues 12, total issues 19\n",
      "0 {'issue_type': 'redundancy_entity', 'affected_ids': [33346, 1380022, 1410020, 1380024, 363328], 'reasoning': \"Multiple entities with the name 'Read Hotspot' (IDs 33346, 1380022, 1410020, 1380024, 363328) represent the same concept - a read hotspot in distributed database systems like TiDB. While their descriptions vary in detail, they all convey the fundamental concept of excessive read requests concentrating on a specific Region or node, leading to performance degradation.\", 'confidence': 'very_high', 'facto_search': ''}\n",
      "1 {'issue_type': 'redundancy_entity', 'affected_ids': [660260, 1380026], 'reasoning': \"Two entities with the name 'Hotspot Issues' (IDs 660260, 1380026) represent the same concept - performance bottlenecks caused by uneven data access patterns or concentrated read/write traffic on specific database resources. Both descriptions refer to the same phenomenon in TiDB systems.\", 'confidence': 'high', 'facto_search': ''}\n",
      "2 {'issue_type': 'redundancy_entity', 'affected_ids': [363170, 1380027], 'reasoning': \"Entities 'Hot Spots' (ID 363170) and 'Hotspots' (ID 1380027) represent the same concept - specific data or parts of the database experiencing disproportionately high read or write activity. The difference is merely in singular vs plural naming convention, with essentially identical semantic meaning.\", 'confidence': 'high', 'facto_search': ''}\n",
      "3 {'issue_type': 'redundancy_entity', 'affected_ids': [30178, 61067], 'reasoning': \"Two entities with the name 'Hotspot Tables' (IDs 30178, 61067) represent the same concept - small, frequently accessed tables that cause performance issues due to data concentration on a single Region. Both descriptions refer to the same phenomenon in TiDB systems.\", 'confidence': 'high', 'facto_search': ''}\n",
      "4 {'issue_type': 'redundancy_entity', 'affected_ids': [30274, 1380021, 30178], 'reasoning': \"Three entities with the name 'Read/write hot spots' (IDs 30274, 1380021, 30178) represent the same concept - areas in a database cluster experiencing concentrated read or write activity leading to performance bottlenecks. The descriptions are slightly different but refer to the same fundamental concept.\", 'confidence': 'high', 'facto_search': ''}\n",
      "5 {'issue_type': 'redundancy_relationship', 'affected_ids': [92524, 35794, 50366], 'reasoning': 'Three relationships (IDs 92524, 35794, 50366) connect the same source (Follower Read) and target (Read Hotspot 1410020) entities with essentially the same semantic meaning - that Follower Read is used to mitigate read hotspots. The descriptions vary slightly in detail but convey the same fundamental connection.', 'confidence': 'high', 'facto_search': ''}\n",
      "6 {'issue_type': 'redundancy_relationship', 'affected_ids': [57242, 58057], 'reasoning': \"Two relationships (IDs 57242, 58057) connect the same source (Read Hotspot 1410020) and target (merge_option Attribute) entities with essentially the same semantic meaning - that the merge_option attribute can be used to mitigate read hotspots. The descriptions are nearly identical, differing only in the inclusion of 'deny' in one.\", 'confidence': 'high', 'facto_search': ''}\n",
      "0 {'issue_type': 'redundancy_entity', 'affected_ids': [1320162, 1380024, 1380020, 1500021, 1380022, 363328], 'reasoning': \"Multiple entities with the name 'Read Hotspot' (IDs: 1320162, 1380024, 1380020, 1500021, 1380022, 363328) all describe the same concept of concentrated read operations causing performance degradation, making them redundant duplicates.\", 'confidence': 'high', 'facto_search': ''}\n",
      "1 {'issue_type': 'redundancy_entity', 'affected_ids': [363170, 1380027, 1440020], 'reasoning': \"Multiple entities with the name 'Hotspots' (IDs: 363170, 1380027, 1440020) all describe the same general concept of concentrated read/write activity causing performance issues, making them redundant duplicates.\", 'confidence': 'high', 'facto_search': ''}\n",
      "2 {'issue_type': 'redundancy_entity', 'affected_ids': [1380025, 1380020, 1470020, 40527], 'reasoning': \"Multiple entities with the name 'Hotspot Small Table Caching' (IDs: 1380025, 1380020, 1470020, 40527) all describe the same TiDB feature for caching frequently accessed small tables, making them redundant duplicates.\", 'confidence': 'high', 'facto_search': ''}\n",
      "3 {'issue_type': 'redundancy_entity', 'affected_ids': [1500021, 1380026, 660260], 'reasoning': \"Multiple entities with the name 'Hotspot Issues' (IDs: 1500021, 1380026, 660260) all describe the same concept of performance bottlenecks caused by uneven data access patterns, making them redundant duplicates.\", 'confidence': 'high', 'facto_search': ''}\n",
      "4 {'issue_type': 'redundancy_entity', 'affected_ids': [45660, 900276], 'reasoning': \"Two entities named 'Read Traffic' (IDs: 45660, 900276) both describe the volume of read requests to a storage engine, making them redundant duplicates.\", 'confidence': 'high', 'facto_search': ''}\n",
      "5 {'issue_type': 'redundancy_entity', 'affected_ids': [3275, 35740], 'reasoning': \"Two entities named 'write traffic' (ID: 3275) and 'Write Traffic' (ID: 35740) both describe the volume of data being written to a storage system, making them redundant duplicates.\", 'confidence': 'high', 'facto_search': ''}\n",
      "6 {'issue_type': 'redundancy_entity', 'affected_ids': [51465, 90805], 'reasoning': \"Two entities named 'Overloaded Databases' (IDs: 51465, 90805) both describe databases experiencing excessive traffic leading to performance degradation, making them redundant duplicates.\", 'confidence': 'high', 'facto_search': ''}\n",
      "7 {'issue_type': 'redundancy_relationship', 'affected_ids': [91142, 48846], 'reasoning': \"Relationships 91142 and 48846 both connect 'High Traffic' to 'Overloaded Databases' with the same semantic meaning of high traffic leading to overloaded databases, making them redundant duplicates.\", 'confidence': 'high', 'facto_search': ''}\n",
      "8 {'issue_type': 'redundancy_relationship', 'affected_ids': [49647, 91765], 'reasoning': \"Relationships 49647 and 91765 both connect 'TiDB Performance Tuning Best Practices for Java Applications' to 'Highly Concurrent Write Best Practices' with the same semantic meaning, making them redundant duplicates.\", 'confidence': 'high', 'facto_search': ''}\n",
      "9 {'issue_type': 'redundancy_relationship', 'affected_ids': [47620, 49651], 'reasoning': \"Relationships 47620 and 49651 both connect 'Highly Concurrent Write Best Practices' to 'TiDB' with the same semantic meaning of best practices being for TiDB, making them redundant duplicates.\", 'confidence': 'high', 'facto_search': ''}\n",
      "10 {'issue_type': 'entity_quality_issue', 'affected_ids': [50365], 'reasoning': \"Entity 'hot-region-scheduler' (ID: 50365) has a description that is too vague ('Scheduler that redistributes hot regions to balance read/write traffic') and fails to provide enough context about what the entity actually is or how it works, making it ambiguous.\", 'confidence': 'high', 'facto_search': ''}\n",
      "11 {'issue_type': 'entity_quality_issue', 'affected_ids': [41603], 'reasoning': \"Entity 'hot-spot-scheduler' (ID: 41603) has a description that is too vague ('A scheduling strategy in PD to handle hot spots') and fails to provide enough context about what the entity actually is or how it works, making it ambiguous.\", 'confidence': 'high', 'facto_search': ''}\n",
      "============================================================\n",
      "skip processed issue 0 for gemini-2.5-pro-critic redundancy_entity [33346, 1380022, 1410020, 1380024, 363328] 2.7\n",
      "skip processed issue 1 for gemini-2.5-pro-critic redundancy_entity [660260, 1380026] 2.7\n",
      "skip processed issue 2 for gemini-2.5-pro-critic redundancy_entity [363170, 1380027] 3.6\n",
      "skip processed issue 3 for gemini-2.5-pro-critic redundancy_entity [30178, 61067] 2.7\n",
      "skip processed issue 4 for gemini-2.5-pro-critic redundancy_entity [30274, 1380021, 30178] 0.0\n",
      "skip processed issue 5 for gemini-2.5-pro-critic redundancy_relationship [92524, 35794, 50366] 2.7\n",
      "skip processed issue 6 for gemini-2.5-pro-critic redundancy_relationship [57242, 58057] 2.7\n",
      "processing issue 0 for gemini-2.5-pro-critic redundancy_entity affected entities: [1320162, 1380024, 1380020, 1500021, 1380022, 363328] 0.0\n"
     ]
    }
   ],
   "source": [
    "from optimization import improve_graph\n",
    "\n",
    "improve_graph(\"how to handle read hotspot?\")"
   ]
  }
 ],
 "metadata": {
  "kernelspec": {
   "display_name": "graph",
   "language": "python",
   "name": "python3"
  },
  "language_info": {
   "codemirror_mode": {
    "name": "ipython",
    "version": 3
   },
   "file_extension": ".py",
   "mimetype": "text/x-python",
   "name": "python",
   "nbconvert_exporter": "python",
   "pygments_lexer": "ipython3",
   "version": "3.11.11"
  }
 },
 "nbformat": 4,
 "nbformat_minor": 2
}
