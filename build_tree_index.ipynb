{
 "cells": [
  {
   "cell_type": "code",
   "execution_count": 1,
   "metadata": {},
   "outputs": [],
   "source": [
    "from setting.db import SessionLocal\n",
    "\n",
    "from llm.factory import LLMInterface\n",
    "from llm.embedding import get_text_embedding\n",
    "from knowledge_graph.knowledge import KnowledgeBuilder\n",
    "\n",
    "\n",
    "llm_client = LLMInterface(\"bedrock\", \"arn:aws:bedrock:us-east-1:841162690310:inference-profile/us.anthropic.claude-3-7-sonnet-20250219-v1:0\")\n",
    "# llm_client = LLMInterface(\"bedrock\", \"us.deepseek.r1-v1:0\")\n",
    "kb_builder = KnowledgeBuilder(llm_client, get_text_embedding)"
   ]
  },
  {
   "cell_type": "code",
   "execution_count": null,
   "metadata": {},
   "outputs": [],
   "source": [
    "kb = kb_builder.extract_knowledge_index(\n",
    "    \"docs/bo_tree/business_operation_knowledge_tree.mm\",\n",
    "    {\n",
    "        \"doc_version\": 1.0,\n",
    "        \"doc_link\": \"https://pingcap.feishu.cn/wiki/FYsKwV2p4iDrAxkEpPyc2o7enBb#mindmap\"\n",
    "    }\n",
    ")\n",
    "kb"
   ]
  },
  {
   "cell_type": "markdown",
   "metadata": {},
   "source": [
    "## Load Validation Dataset"
   ]
  },
  {
   "cell_type": "code",
   "execution_count": null,
   "metadata": {},
   "outputs": [],
   "source": [
    "import pandas as pd\n",
    "import os\n",
    "\n",
    "faq_file = \"docs/dataset/AI_BOT_Testing\"\n",
    "\n",
    "if os.path.exists(f\"{faq_file}.pkl\"):\n",
    "    faq_df = pd.read_pickle(f\"{faq_file}.pkl\")\n",
    "else:\n",
    "    faq_df = pd.read_excel(f\"{faq_file}.xlsx\")\n",
    "    faq_df = faq_df.iloc[2:, :5].reset_index(drop=True)\n",
    "    faq_df.columns = [\"提问者\", \"Questions\", \"AI Answers\", \"✔️ or ✖️\", \"Tree Index\"]\n",
    "    faq_df.to_pickle(faq_file)\n",
    "\n",
    "faq_df"
   ]
  },
  {
   "cell_type": "code",
   "execution_count": null,
   "metadata": {},
   "outputs": [],
   "source": [
    "print(faq_df.at[1, 'Tree Index'])"
   ]
  },
  {
   "cell_type": "code",
   "execution_count": null,
   "metadata": {},
   "outputs": [],
   "source": [
    "import json\n",
    "\n",
    "from utils.json_utils import extract_json\n",
    "from index_craft.prompts.index_gen import get_question_index_prompt, get_index_reference_prompt\n",
    "\n",
    "issues = []\n",
    "\n",
    "for index, row in faq_df.iterrows():\n",
    "    print(type(row['Tree Index']), row['Tree Index'])\n",
    "    if not isinstance(row['Tree Index'], str) or (row['Tree Index'] is not None and len(row['Tree Index']) > 0):\n",
    "        continue\n",
    "\n",
    "    print(\"-\"*100)\n",
    "    print(\"Question: \", row['Questions'])\n",
    "    prompt = get_question_index_prompt(row['Questions'], tree_dict)\n",
    "    response = llm_client.generate(prompt)\n",
    "    json_str = extract_json(response)\n",
    "    json_obj = json.loads(json_str)\n",
    "    index_paths = []\n",
    "    for i, index_obj in enumerate(json_obj):\n",
    "        print(f\"Index {i}:\")\n",
    "        print(f\" - subquestion: {index_obj['subquestion']}\")\n",
    "        print(f\" - reasoning: {index_obj['reasoning']}\")\n",
    "        print(f\" - matched: {index_obj['matched']}\")\n",
    "        if index_obj['matched'] and 'index_path' in index_obj and len(index_obj['index_path']) > 0:\n",
    "            path = \" -> \".join(index_obj['index_path'])\n",
    "            print(\" -\", path)\n",
    "            index_paths.append(path)\n",
    "            \n",
    "        else:\n",
    "            issues.append(index_obj)\n",
    "    print(\"\\n\")\n",
    "    faq_df.loc[index, 'Tree Index'] = index_paths"
   ]
  },
  {
   "cell_type": "code",
   "execution_count": 6,
   "metadata": {},
   "outputs": [],
   "source": [
    "faq_df.to_pickle(f\"{faq_file}.pkl\")"
   ]
  }
 ],
 "metadata": {
  "kernelspec": {
   "display_name": "graphrag",
   "language": "python",
   "name": "python3"
  },
  "language_info": {
   "codemirror_mode": {
    "name": "ipython",
    "version": 3
   },
   "file_extension": ".py",
   "mimetype": "text/x-python",
   "name": "python",
   "nbconvert_exporter": "python",
   "pygments_lexer": "ipython3",
   "version": "3.12.6"
  }
 },
 "nbformat": 4,
 "nbformat_minor": 2
}
